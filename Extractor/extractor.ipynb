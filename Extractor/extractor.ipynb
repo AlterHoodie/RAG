{
 "cells": [
  {
   "cell_type": "code",
   "execution_count": 1,
   "metadata": {},
   "outputs": [
    {
     "name": "stdout",
     "output_type": "stream",
     "text": [
      "Requirement already satisfied: PyMuPDF in c:\\users\\manib\\anaconda3\\lib\\site-packages (1.24.3)\n",
      "Requirement already satisfied: PyMuPDFb==1.24.3 in c:\\users\\manib\\anaconda3\\lib\\site-packages (from PyMuPDF) (1.24.3)\n"
     ]
    }
   ],
   "source": [
    "!pip install PyMuPDF\n"
   ]
  },
  {
   "cell_type": "code",
   "execution_count": 25,
   "metadata": {},
   "outputs": [],
   "source": [
    "import os\n",
    "import fitz  # PyMuPDF\n",
    "import re\n",
    "from multi_coulumn import column_boxes\n",
    "from PIL import Image"
   ]
  },
  {
   "cell_type": "code",
   "execution_count": 26,
   "metadata": {},
   "outputs": [],
   "source": [
    "doc = fitz.open('./Data/nexon-owner-manual-2022.pdf') ## Replace Path with your own PDF Path"
   ]
  },
  {
   "cell_type": "code",
   "execution_count": 27,
   "metadata": {},
   "outputs": [],
   "source": [
    "\n",
    "def detect_tables(page): ## Detects tables in page\n",
    "    tables = page.find_tables(horizontal_strategy=\"lines\", vertical_strategy=\"lines\")\n",
    "    return tables\n",
    "def find_min(group): ## Finds minimum coordinate value of bounding box group\n",
    "    sorted_group = sorted(group,key=lambda x:x[0])\n",
    "    return sorted_group[0][0]"
   ]
  },
  {
   "cell_type": "code",
   "execution_count": 28,
   "metadata": {},
   "outputs": [],
   "source": [
    "def group_coordinates(coordinates, threshold,tables):\n",
    "    groups = []\n",
    "    current_group = []\n",
    "\n",
    "    # Sort the coordinates based on the x-coordinate\n",
    "    sorted_coordinates = sorted(coordinates, key=lambda x: x[0])\n",
    "\n",
    "    # Iterate through sorted coordinates\n",
    "    for i in range(len(sorted_coordinates)):\n",
    "        if i == 0:\n",
    "            current_group.append(sorted_coordinates[i])\n",
    "        else:\n",
    "            # Check the difference between consecutive x-coordinates\n",
    "            diff = sorted_coordinates[i][0] - sorted_coordinates[i-1][0]\n",
    "            if diff <= threshold:\n",
    "                # Add coordinate to the current group\n",
    "                current_group.append(sorted_coordinates[i])\n",
    "            else:\n",
    "                # Start a new group\n",
    "                if tables.tables:\n",
    "                    for table in tables:\n",
    "                        min_x = find_min(current_group)\n",
    "                        if min_x<int(table.bbox[0]):\n",
    "                            groups.append(current_group)\n",
    "                else:\n",
    "                    groups.append(current_group)\n",
    "                current_group = [sorted_coordinates[i]]\n",
    "\n",
    "    # Add the last group\n",
    "    if tables.tables:\n",
    "        for table in tables:\n",
    "            min_x = find_min(current_group)\n",
    "            if min_x<int(table.bbox[0]):\n",
    "                groups.append(current_group)\n",
    "    else:\n",
    "        groups.append(current_group)\n",
    "    return groups"
   ]
  },
  {
   "cell_type": "code",
   "execution_count": 29,
   "metadata": {},
   "outputs": [],
   "source": [
    "def normalize_text(text):\n",
    "    # Remove line breaks and extra spaces\n",
    "    if(text == None):\n",
    "        return\n",
    "    text = text.replace('\\n', ' ').strip()\n",
    "    # Lowercase the text\n",
    "    text = text.lower()\n",
    "    # Standardize punctuation\n",
    "    text = text.replace(' ,', ',').replace(' .', '.').replace(' ?', '?').replace(' !', '!')\n",
    "    # Replace placeholders (if any)\n",
    "    # No placeholders to replace in the provided text\n",
    "    return text"
   ]
  },
  {
   "cell_type": "code",
   "execution_count": 34,
   "metadata": {},
   "outputs": [
    {
     "name": "stdout",
     "output_type": "stream",
     "text": [
      "owner’s name: address: selling dealer code: date of delivery: : date of registration registration no.: chassis no.: engineno.: transaxle no.: battery make: battery sr. no.: battery code: key no.: the warranty on this vehicle is valid only if the details are  filled, signed and stamped by the selling dealerfollowing items are provided with your vehicle: 1. owner’s manual 2. battery warranty card(if applicable)( pp ) 3. first aid kit 4. advance warning triangle 5. jack 6. spare fuses (provided inspa e u fuse box)link  https://cars.tatamotors.com/ser­ vice/owners/owners-manual  for compatible list of phones,  refer:  https://cars.tatamotors.com/ser­ vice/owners/phone-bluetooth- compatibility-with-carinfotainme nt-systemnt system 9. service network bookrefer link  https://cars.tatamotors.com/ser­ vice/service-network”."
     ]
    }
   ],
   "source": [
    "page = doc.load_page(0)\n",
    "tables = detect_tables(page)\n",
    "\n",
    "bboxes = column_boxes(page, header_margin=40, no_image_text=True) ## Finds all the bounding boxes in the page\n",
    "\n",
    "rect_list = [] \n",
    "for rect in bboxes:## Rect stores the coordinates of the bounding box\n",
    "    rect_list.append(rect.rect)\n",
    "# Function to group coordinates based on their x-coordinate values\n",
    "\n",
    "groups = group_coordinates(rect_list,70,tables)\n",
    "\n",
    "for group in groups:\n",
    "    sorted_group = sorted(group,key=lambda x:x[1])\n",
    "    for rect in sorted_group:\n",
    "        # print(page.get_text(clip=rect, sort=True))\n",
    "        # print(\"-\" * 80)\n",
    "        box_string = page.get_text(clip=rect, sort=True)\n",
    "        print(normalize_text(box_string),end='')\n",
    "\n",
    "for table in tables:\n",
    "    df = table.to_pandas()\n",
    "    df_normalized = df.applymap(normalize_text)\n",
    "    df_normalized.columns = [normalize_text(col) for col in df.columns]\n",
    "    print(df_normalized.to_csv(index=False))\n"
   ]
  },
  {
   "cell_type": "code",
   "execution_count": 31,
   "metadata": {},
   "outputs": [
    {
     "ename": "IndexError",
     "evalue": "table not on page",
     "output_type": "error",
     "traceback": [
      "\u001b[1;31m---------------------------------------------------------------------------\u001b[0m",
      "\u001b[1;31mIndexError\u001b[0m                                Traceback (most recent call last)",
      "Cell \u001b[1;32mIn[31], line 3\u001b[0m\n\u001b[0;32m      1\u001b[0m page \u001b[38;5;241m=\u001b[39m doc\u001b[38;5;241m.\u001b[39mload_page(\u001b[38;5;241m118\u001b[39m)\n\u001b[0;32m      2\u001b[0m tables \u001b[38;5;241m=\u001b[39m page\u001b[38;5;241m.\u001b[39mfind_tables()\n\u001b[1;32m----> 3\u001b[0m df \u001b[38;5;241m=\u001b[39m tables[\u001b[38;5;241m0\u001b[39m]\u001b[38;5;241m.\u001b[39mto_pandas()\n\u001b[0;32m      4\u001b[0m \u001b[38;5;66;03m# columns_to_drop = df.filter(regex='Col*').columns\u001b[39;00m\n\u001b[0;32m      5\u001b[0m \u001b[38;5;66;03m# df.drop(columns_to_drop,axis = 1, inplace = True)\u001b[39;00m\n\u001b[0;32m      6\u001b[0m df\n",
      "File \u001b[1;32mc:\\Users\\manib\\anaconda3\\Lib\\site-packages\\pymupdf\\table.py:1851\u001b[0m, in \u001b[0;36mTableFinder.__getitem__\u001b[1;34m(self, i)\u001b[0m\n\u001b[0;32m   1849\u001b[0m tcount \u001b[38;5;241m=\u001b[39m \u001b[38;5;28mlen\u001b[39m(\u001b[38;5;28mself\u001b[39m\u001b[38;5;241m.\u001b[39mtables)\n\u001b[0;32m   1850\u001b[0m \u001b[38;5;28;01mif\u001b[39;00m i \u001b[38;5;241m>\u001b[39m\u001b[38;5;241m=\u001b[39m tcount:\n\u001b[1;32m-> 1851\u001b[0m     \u001b[38;5;28;01mraise\u001b[39;00m \u001b[38;5;167;01mIndexError\u001b[39;00m(\u001b[38;5;124m\"\u001b[39m\u001b[38;5;124mtable not on page\u001b[39m\u001b[38;5;124m\"\u001b[39m)\n\u001b[0;32m   1852\u001b[0m \u001b[38;5;28;01mwhile\u001b[39;00m i \u001b[38;5;241m<\u001b[39m \u001b[38;5;241m0\u001b[39m:\n\u001b[0;32m   1853\u001b[0m     i \u001b[38;5;241m+\u001b[39m\u001b[38;5;241m=\u001b[39m tcount\n",
      "\u001b[1;31mIndexError\u001b[0m: table not on page"
     ]
    }
   ],
   "source": [
    "page = doc.load_page(118)\n",
    "tables = page.find_tables()\n",
    "df = tables[0].to_pandas()\n",
    "# columns_to_drop = df.filter(regex='Col*').columns\n",
    "# df.drop(columns_to_drop,axis = 1, inplace = True)\n",
    "df\n",
    "# df.applymap(normalize_text)"
   ]
  },
  {
   "cell_type": "code",
   "execution_count": 40,
   "metadata": {},
   "outputs": [],
   "source": [
    "## Extracting entire PDF\n",
    "def page_extractor(page):\n",
    "    normalized_string = \"\"\n",
    "    normalized_table = \"\"\n",
    "\n",
    "    tables = detect_tables(page)\n",
    "\n",
    "    bboxes = column_boxes(page, header_margin=40, no_image_text=True) ## Finds all the bounding boxes in the page\n",
    "\n",
    "    rect_list = [] \n",
    "    for rect in bboxes:## Rect stores the coordinates of the bounding box\n",
    "        rect_list.append(rect.rect)\n",
    "    # Function to group coordinates based on their x-coordinate values\n",
    "\n",
    "    groups = group_coordinates(rect_list,70,tables)\n",
    "\n",
    "    for group in groups:\n",
    "        sorted_group = sorted(group,key=lambda x:x[1])\n",
    "        for rect in sorted_group:\n",
    "            # print(page.get_text(clip=rect, sort=True))\n",
    "            # print(\"-\" * 80)\n",
    "            box_string = page.get_text(clip=rect, sort=True)\n",
    "            normalized_string = normalized_string + normalize_text(box_string)\n",
    "    \n",
    "    for table in tables:\n",
    "        df = table.to_pandas()\n",
    "        df_normalized = df.applymap(normalize_text)\n",
    "        df_normalized.columns = [normalize_text(col) for col in df.columns]\n",
    "        normalized_table = normalized_table + \"\\n\" + df_normalized.to_csv(index=False)\n",
    "    return normalized_string + '\\n' + normalized_table"
   ]
  },
  {
   "cell_type": "code",
   "execution_count": 43,
   "metadata": {},
   "outputs": [
    {
     "data": {
      "text/plain": [
       "b'owner\\xe2\\x80\\x99s name: address: selling dealer code: date of delivery: : date of registration registration no.: chassis no.: engineno.: transaxle no.: battery make: battery sr. no.: battery code: key no.: the warranty on this vehicle is valid only if the details are  filled, signed and stamped by the selling dealerfollowing items are provided with your vehicle: 1. owner\\xe2\\x80\\x99s manual 2. battery warranty card(if applicable)( pp ) 3. first aid kit 4. advance warning triangle 5. jack 6. spare fuses (provided inspa e u fuse box)link  https://cars.tatamotors.com/ser\\xc2\\xad vice/owners/owners-manual  for compatible list of phones,  refer:  https://cars.tatamotors.com/ser\\xc2\\xad vice/owners/phone-bluetooth- compatibility-with-carinfotainme nt-systemnt system 9. service network bookrefer link  https://cars.tatamotors.com/ser\\xc2\\xad vice/service-network\\xe2\\x80\\x9d.\\n'"
      ]
     },
     "execution_count": 43,
     "metadata": {},
     "output_type": "execute_result"
    }
   ],
   "source": [
    "page = doc.load_page(0)\n",
    "page_string = page_extractor(page)\n",
    "# print('Example of page extracted:\\n')\n",
    "page_string.encode('utf-8')"
   ]
  },
  {
   "cell_type": "code",
   "execution_count": 35,
   "metadata": {},
   "outputs": [
    {
     "ename": "NameError",
     "evalue": "name 'page_string' is not defined",
     "output_type": "error",
     "traceback": [
      "\u001b[1;31m---------------------------------------------------------------------------\u001b[0m",
      "\u001b[1;31mNameError\u001b[0m                                 Traceback (most recent call last)",
      "Cell \u001b[1;32mIn[35], line 1\u001b[0m\n\u001b[1;32m----> 1\u001b[0m page_string\n",
      "\u001b[1;31mNameError\u001b[0m: name 'page_string' is not defined"
     ]
    }
   ],
   "source": []
  },
  {
   "cell_type": "code",
   "execution_count": 44,
   "metadata": {},
   "outputs": [],
   "source": [
    "page_count = doc.page_count\n",
    "\n",
    "with open(\"output.txt\", \"a\",encoding=\"utf-8\") as file:\n",
    "    # Iterate through each page\n",
    "    for i in range(page_count):\n",
    "        try:\n",
    "            page = doc.load_page(i)\n",
    "            # Extract page_string for the current page\n",
    "            page_string = page_extractor(page)\n",
    "            \n",
    "            # Append page_string to the text file\n",
    "            file.write(page_string + \"\\n\")\n",
    "        except:\n",
    "            pass"
   ]
  },
  {
   "cell_type": "code",
   "execution_count": null,
   "metadata": {},
   "outputs": [],
   "source": []
  }
 ],
 "metadata": {
  "kernelspec": {
   "display_name": "base",
   "language": "python",
   "name": "python3"
  },
  "language_info": {
   "codemirror_mode": {
    "name": "ipython",
    "version": 3
   },
   "file_extension": ".py",
   "mimetype": "text/x-python",
   "name": "python",
   "nbconvert_exporter": "python",
   "pygments_lexer": "ipython3",
   "version": "3.11.4"
  }
 },
 "nbformat": 4,
 "nbformat_minor": 2
}
